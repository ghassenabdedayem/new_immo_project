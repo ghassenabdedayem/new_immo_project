{
 "cells": [
  {
   "cell_type": "code",
   "execution_count": 1,
   "metadata": {},
   "outputs": [],
   "source": [
    "import pandas as pd\n",
    "import numpy as np\n",
    "from data_processing import clean_data as cd"
   ]
  },
  {
   "cell_type": "code",
   "execution_count": 2,
   "metadata": {},
   "outputs": [
    {
     "output_type": "execute_result",
     "data": {
      "text/plain": "   Code service CH  Reference document  1 Articles CGI  2 Articles CGI  \\\n0              NaN                 NaN             NaN             NaN   \n1              NaN                 NaN             NaN             NaN   \n2              NaN                 NaN             NaN             NaN   \n3              NaN                 NaN             NaN             NaN   \n4              NaN                 NaN             NaN             NaN   \n\n   3 Articles CGI  4 Articles CGI  5 Articles CGI  No disposition  \\\n0             NaN             NaN             NaN               2   \n1             NaN             NaN             NaN               1   \n2             NaN             NaN             NaN               2   \n3             NaN             NaN             NaN               2   \n4             NaN             NaN             NaN               1   \n\n  Date mutation Nature mutation  ... Surface Carrez du 5eme lot  \\\n0    05/01/2015           Vente  ...                        NaN   \n1    09/01/2015           Vente  ...                        NaN   \n2    05/01/2015           Vente  ...                        NaN   \n3    07/01/2015           Vente  ...                        NaN   \n4    12/01/2015           Vente  ...                        NaN   \n\n   Nombre de lots Code type local  Type local Identifiant local  \\\n0               0             NaN         NaN               NaN   \n1               0             NaN         NaN               NaN   \n2               0             NaN         NaN               NaN   \n3               0             NaN         NaN               NaN   \n4               0             3.0  Dépendance               NaN   \n\n  Surface reelle bati  Nombre pieces principales Nature culture  \\\n0                 NaN                        NaN              P   \n1                 NaN                        NaN             AB   \n2                 NaN                        NaN              P   \n3                 NaN                        NaN              P   \n4                 0.0                        0.0              S   \n\n  Nature culture speciale  Surface terrain  \n0                     NaN             82.0  \n1                     NaN           1550.0  \n2                     NaN              4.0  \n3                     NaN            298.0  \n4                     NaN            195.0  \n\n[5 rows x 43 columns]",
      "text/html": "<div>\n<style scoped>\n    .dataframe tbody tr th:only-of-type {\n        vertical-align: middle;\n    }\n\n    .dataframe tbody tr th {\n        vertical-align: top;\n    }\n\n    .dataframe thead th {\n        text-align: right;\n    }\n</style>\n<table border=\"1\" class=\"dataframe\">\n  <thead>\n    <tr style=\"text-align: right;\">\n      <th></th>\n      <th>Code service CH</th>\n      <th>Reference document</th>\n      <th>1 Articles CGI</th>\n      <th>2 Articles CGI</th>\n      <th>3 Articles CGI</th>\n      <th>4 Articles CGI</th>\n      <th>5 Articles CGI</th>\n      <th>No disposition</th>\n      <th>Date mutation</th>\n      <th>Nature mutation</th>\n      <th>...</th>\n      <th>Surface Carrez du 5eme lot</th>\n      <th>Nombre de lots</th>\n      <th>Code type local</th>\n      <th>Type local</th>\n      <th>Identifiant local</th>\n      <th>Surface reelle bati</th>\n      <th>Nombre pieces principales</th>\n      <th>Nature culture</th>\n      <th>Nature culture speciale</th>\n      <th>Surface terrain</th>\n    </tr>\n  </thead>\n  <tbody>\n    <tr>\n      <th>0</th>\n      <td>NaN</td>\n      <td>NaN</td>\n      <td>NaN</td>\n      <td>NaN</td>\n      <td>NaN</td>\n      <td>NaN</td>\n      <td>NaN</td>\n      <td>2</td>\n      <td>05/01/2015</td>\n      <td>Vente</td>\n      <td>...</td>\n      <td>NaN</td>\n      <td>0</td>\n      <td>NaN</td>\n      <td>NaN</td>\n      <td>NaN</td>\n      <td>NaN</td>\n      <td>NaN</td>\n      <td>P</td>\n      <td>NaN</td>\n      <td>82.0</td>\n    </tr>\n    <tr>\n      <th>1</th>\n      <td>NaN</td>\n      <td>NaN</td>\n      <td>NaN</td>\n      <td>NaN</td>\n      <td>NaN</td>\n      <td>NaN</td>\n      <td>NaN</td>\n      <td>1</td>\n      <td>09/01/2015</td>\n      <td>Vente</td>\n      <td>...</td>\n      <td>NaN</td>\n      <td>0</td>\n      <td>NaN</td>\n      <td>NaN</td>\n      <td>NaN</td>\n      <td>NaN</td>\n      <td>NaN</td>\n      <td>AB</td>\n      <td>NaN</td>\n      <td>1550.0</td>\n    </tr>\n    <tr>\n      <th>2</th>\n      <td>NaN</td>\n      <td>NaN</td>\n      <td>NaN</td>\n      <td>NaN</td>\n      <td>NaN</td>\n      <td>NaN</td>\n      <td>NaN</td>\n      <td>2</td>\n      <td>05/01/2015</td>\n      <td>Vente</td>\n      <td>...</td>\n      <td>NaN</td>\n      <td>0</td>\n      <td>NaN</td>\n      <td>NaN</td>\n      <td>NaN</td>\n      <td>NaN</td>\n      <td>NaN</td>\n      <td>P</td>\n      <td>NaN</td>\n      <td>4.0</td>\n    </tr>\n    <tr>\n      <th>3</th>\n      <td>NaN</td>\n      <td>NaN</td>\n      <td>NaN</td>\n      <td>NaN</td>\n      <td>NaN</td>\n      <td>NaN</td>\n      <td>NaN</td>\n      <td>2</td>\n      <td>07/01/2015</td>\n      <td>Vente</td>\n      <td>...</td>\n      <td>NaN</td>\n      <td>0</td>\n      <td>NaN</td>\n      <td>NaN</td>\n      <td>NaN</td>\n      <td>NaN</td>\n      <td>NaN</td>\n      <td>P</td>\n      <td>NaN</td>\n      <td>298.0</td>\n    </tr>\n    <tr>\n      <th>4</th>\n      <td>NaN</td>\n      <td>NaN</td>\n      <td>NaN</td>\n      <td>NaN</td>\n      <td>NaN</td>\n      <td>NaN</td>\n      <td>NaN</td>\n      <td>1</td>\n      <td>12/01/2015</td>\n      <td>Vente</td>\n      <td>...</td>\n      <td>NaN</td>\n      <td>0</td>\n      <td>3.0</td>\n      <td>Dépendance</td>\n      <td>NaN</td>\n      <td>0.0</td>\n      <td>0.0</td>\n      <td>S</td>\n      <td>NaN</td>\n      <td>195.0</td>\n    </tr>\n  </tbody>\n</table>\n<p>5 rows × 43 columns</p>\n</div>"
     },
     "metadata": {},
     "execution_count": 2
    }
   ],
   "source": [
    "df = pd.read_csv('../data_sources/valeursfoncieres-2015.txt', sep='|')\n",
    "df.head()"
   ]
  },
  {
   "cell_type": "code",
   "execution_count": 7,
   "metadata": {},
   "outputs": [],
   "source": [
    "cd('../data_sources/valeursfoncieres-2015.txt', '../data_transformed/test_clean_1.csv')"
   ]
  },
  {
   "cell_type": "code",
   "execution_count": 11,
   "metadata": {
    "tags": []
   },
   "outputs": [
    {
     "output_type": "stream",
     "name": "stdout",
     "text": "2750305\n"
    },
    {
     "output_type": "execute_result",
     "data": {
      "text/plain": "   No_disposition Date_mutation Nature_mutation  Valeur_fonciere  No_voie  \\\n0               2    05/01/2015           Vente            120.0      NaN   \n1               1    09/01/2015           Vente          12400.0      NaN   \n2               2    05/01/2015           Vente            110.0      NaN   \n3               2    07/01/2015           Vente            180.0      NaN   \n4               1    12/01/2015           Vente          95000.0   5383.0   \n\n  Type_de_voie               Voie  Code_postal               Commune  \\\n0          NaN  ENTRE LES CHEMINS       1250.0  BOHAS-MEYRIAT-RIGNAT   \n1          NaN           VIGNIEUX       1340.0                 JAYAT   \n2          NaN  ENTRE LES CHEMINS       1250.0  BOHAS-MEYRIAT-RIGNAT   \n3          NaN  ENTRE LES CHEMINS       1250.0  BOHAS-MEYRIAT-RIGNAT   \n4          NaN           LE BOURG       1160.0                 PRIAY   \n\n  Code_departement  ... 5eme_lot  Surface_Carrez_du_5eme_lot Nombre_de_lots  \\\n0                1  ...      NaN                         NaN              0   \n1                1  ...      NaN                         NaN              0   \n2                1  ...      NaN                         NaN              0   \n3                1  ...      NaN                         NaN              0   \n4                1  ...      NaN                         NaN              0   \n\n   Code_type_local  Type_local  Surface_reelle_bati Nombre_pieces_principales  \\\n0              NaN         NaN                  NaN                       NaN   \n1              NaN         NaN                  NaN                       NaN   \n2              NaN         NaN                  NaN                       NaN   \n3              NaN         NaN                  NaN                       NaN   \n4              3.0  Dépendance                  0.0                       0.0   \n\n   Nature_culture  Nature_culture_speciale  Surface_terrain  \n0               P                      NaN             82.0  \n1              AB                      NaN           1550.0  \n2               P                      NaN              4.0  \n3               P                      NaN            298.0  \n4               S                      NaN            195.0  \n\n[5 rows x 28 columns]",
      "text/html": "<div>\n<style scoped>\n    .dataframe tbody tr th:only-of-type {\n        vertical-align: middle;\n    }\n\n    .dataframe tbody tr th {\n        vertical-align: top;\n    }\n\n    .dataframe thead th {\n        text-align: right;\n    }\n</style>\n<table border=\"1\" class=\"dataframe\">\n  <thead>\n    <tr style=\"text-align: right;\">\n      <th></th>\n      <th>No_disposition</th>\n      <th>Date_mutation</th>\n      <th>Nature_mutation</th>\n      <th>Valeur_fonciere</th>\n      <th>No_voie</th>\n      <th>Type_de_voie</th>\n      <th>Voie</th>\n      <th>Code_postal</th>\n      <th>Commune</th>\n      <th>Code_departement</th>\n      <th>...</th>\n      <th>5eme_lot</th>\n      <th>Surface_Carrez_du_5eme_lot</th>\n      <th>Nombre_de_lots</th>\n      <th>Code_type_local</th>\n      <th>Type_local</th>\n      <th>Surface_reelle_bati</th>\n      <th>Nombre_pieces_principales</th>\n      <th>Nature_culture</th>\n      <th>Nature_culture_speciale</th>\n      <th>Surface_terrain</th>\n    </tr>\n  </thead>\n  <tbody>\n    <tr>\n      <th>0</th>\n      <td>2</td>\n      <td>05/01/2015</td>\n      <td>Vente</td>\n      <td>120.0</td>\n      <td>NaN</td>\n      <td>NaN</td>\n      <td>ENTRE LES CHEMINS</td>\n      <td>1250.0</td>\n      <td>BOHAS-MEYRIAT-RIGNAT</td>\n      <td>1</td>\n      <td>...</td>\n      <td>NaN</td>\n      <td>NaN</td>\n      <td>0</td>\n      <td>NaN</td>\n      <td>NaN</td>\n      <td>NaN</td>\n      <td>NaN</td>\n      <td>P</td>\n      <td>NaN</td>\n      <td>82.0</td>\n    </tr>\n    <tr>\n      <th>1</th>\n      <td>1</td>\n      <td>09/01/2015</td>\n      <td>Vente</td>\n      <td>12400.0</td>\n      <td>NaN</td>\n      <td>NaN</td>\n      <td>VIGNIEUX</td>\n      <td>1340.0</td>\n      <td>JAYAT</td>\n      <td>1</td>\n      <td>...</td>\n      <td>NaN</td>\n      <td>NaN</td>\n      <td>0</td>\n      <td>NaN</td>\n      <td>NaN</td>\n      <td>NaN</td>\n      <td>NaN</td>\n      <td>AB</td>\n      <td>NaN</td>\n      <td>1550.0</td>\n    </tr>\n    <tr>\n      <th>2</th>\n      <td>2</td>\n      <td>05/01/2015</td>\n      <td>Vente</td>\n      <td>110.0</td>\n      <td>NaN</td>\n      <td>NaN</td>\n      <td>ENTRE LES CHEMINS</td>\n      <td>1250.0</td>\n      <td>BOHAS-MEYRIAT-RIGNAT</td>\n      <td>1</td>\n      <td>...</td>\n      <td>NaN</td>\n      <td>NaN</td>\n      <td>0</td>\n      <td>NaN</td>\n      <td>NaN</td>\n      <td>NaN</td>\n      <td>NaN</td>\n      <td>P</td>\n      <td>NaN</td>\n      <td>4.0</td>\n    </tr>\n    <tr>\n      <th>3</th>\n      <td>2</td>\n      <td>07/01/2015</td>\n      <td>Vente</td>\n      <td>180.0</td>\n      <td>NaN</td>\n      <td>NaN</td>\n      <td>ENTRE LES CHEMINS</td>\n      <td>1250.0</td>\n      <td>BOHAS-MEYRIAT-RIGNAT</td>\n      <td>1</td>\n      <td>...</td>\n      <td>NaN</td>\n      <td>NaN</td>\n      <td>0</td>\n      <td>NaN</td>\n      <td>NaN</td>\n      <td>NaN</td>\n      <td>NaN</td>\n      <td>P</td>\n      <td>NaN</td>\n      <td>298.0</td>\n    </tr>\n    <tr>\n      <th>4</th>\n      <td>1</td>\n      <td>12/01/2015</td>\n      <td>Vente</td>\n      <td>95000.0</td>\n      <td>5383.0</td>\n      <td>NaN</td>\n      <td>LE BOURG</td>\n      <td>1160.0</td>\n      <td>PRIAY</td>\n      <td>1</td>\n      <td>...</td>\n      <td>NaN</td>\n      <td>NaN</td>\n      <td>0</td>\n      <td>3.0</td>\n      <td>Dépendance</td>\n      <td>0.0</td>\n      <td>0.0</td>\n      <td>S</td>\n      <td>NaN</td>\n      <td>195.0</td>\n    </tr>\n  </tbody>\n</table>\n<p>5 rows × 28 columns</p>\n</div>"
     },
     "metadata": {},
     "execution_count": 11
    }
   ],
   "source": [
    "df = pd.read_csv('../data_transformed/test_clean_1.csv', index_col=0)\n",
    "print(len(df))\n",
    "df.head()"
   ]
  },
  {
   "cell_type": "code",
   "execution_count": 12,
   "metadata": {},
   "outputs": [],
   "source": [
    "from data_processing import clean_data, process_data, concatenate, geo_code"
   ]
  },
  {
   "cell_type": "code",
   "execution_count": null,
   "metadata": {},
   "outputs": [],
   "source": [
    "process_data('../data_sources/valeursfoncieres-2015.txt', '../data_transformed/test_processed_1.csv')"
   ]
  },
  {
   "cell_type": "code",
   "execution_count": null,
   "metadata": {},
   "outputs": [],
   "source": [
    "import time\n",
    "start_time = time.time()\n",
    "start = 2015\n",
    "end = 2019\n",
    "for i in np.arange(start, end+1):\n",
    "    source_path = '../data_sources/valeursfoncieres-' + str (i) + '.txt'    \n",
    "    processed_path = '../data_transformed/'\n",
    "\n",
    "    clean_data(source_path, processed_path+'cleaned_'+str(i)+'.csv')\n",
    "\n",
    "print('cleaning completed in ' + time.time()-start_time + ' s')"
   ]
  }
 ],
 "metadata": {
  "language_info": {
   "codemirror_mode": {
    "name": "ipython",
    "version": 3
   },
   "file_extension": ".py",
   "mimetype": "text/x-python",
   "name": "python",
   "nbconvert_exporter": "python",
   "pygments_lexer": "ipython3",
   "version": "3.8.3-final"
  },
  "orig_nbformat": 2,
  "kernelspec": {
   "name": "python3",
   "display_name": "Python 3"
  }
 },
 "nbformat": 4,
 "nbformat_minor": 2
}